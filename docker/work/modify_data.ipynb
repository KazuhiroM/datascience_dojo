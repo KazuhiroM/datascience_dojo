{
 "cells": [
  {
   "cell_type": "code",
   "execution_count": 29,
   "metadata": {},
   "outputs": [
    {
     "name": "stdout",
     "output_type": "stream",
     "text": [
      "The sql extension is already loaded. To reload it, use:\n",
      "  %reload_ext sql\n"
     ]
    }
   ],
   "source": [
    "%load_ext sql\n",
    "import os\n",
    "import pandas as pd\n",
    "import psycopg2\n",
    "from sqlalchemy import create_engine"
   ]
  },
  {
   "cell_type": "code",
   "execution_count": 30,
   "metadata": {},
   "outputs": [
    {
     "data": {
      "text/plain": [
       "'Connected: padawan@dsdojo_db'"
      ]
     },
     "execution_count": 30,
     "metadata": {},
     "output_type": "execute_result"
    }
   ],
   "source": [
    "pgconfig = {\n",
    "    'host': 'db',\n",
    "    'port': os.environ['PG_PORT'],\n",
    "    'database': os.environ['PG_DATABASE'],\n",
    "    'user': os.environ['PG_USER'],\n",
    "    'password': os.environ['PG_PASSWORD'],\n",
    "}\n",
    "dsl = 'postgresql://{user}:{password}@{host}:{port}/{database}'.format(**pgconfig)\n",
    "\n",
    "# pd.read_sql用のコネクタ\n",
    "conn = psycopg2.connect(**pgconfig)\n",
    "# pd.to_sql用のcreate engine\n",
    "engine = create_engine(dsl)\n",
    "# MagicコマンドでSQLを書くための設定\n",
    "%sql $dsl"
   ]
  },
  {
   "cell_type": "code",
   "execution_count": 31,
   "metadata": {},
   "outputs": [],
   "source": [
    "df_calender = pd.read_sql(sql='select * from calender', con=conn)\n",
    "df_customer = pd.read_sql(sql='select * from customer', con=conn)\n",
    "df_gender = pd.read_sql(sql='select * from gender', con=conn)\n",
    "df_prefecture = pd.read_sql(sql='select * from prefecture', con=conn)\n",
    "df_product = pd.read_sql(sql='select * from product', con=conn)\n",
    "df_receipt = pd.read_sql(sql='select * from receipt', con=conn)\n",
    "df_store = pd.read_sql(sql='select * from store', con=conn)"
   ]
  },
  {
   "cell_type": "code",
   "execution_count": 32,
   "metadata": {},
   "outputs": [
    {
     "name": "stdout",
     "output_type": "stream",
     "text": [
      "df_calender: 1826\n",
      "df_customer: 224439\n",
      "df_gender: 2\n",
      "df_prefecture: 48\n",
      "df_product: 10022\n",
      "df_receipt: 1100\n",
      "df_store: 53\n"
     ]
    }
   ],
   "source": [
    "print('df_calender:', len(df_calender))\n",
    "print('df_customer:', len(df_customer))\n",
    "print('df_gender:', len(df_gender))\n",
    "print('df_prefecture:', len(df_prefecture))\n",
    "print('df_product:', len(df_product))\n",
    "print('df_receipt:', len(df_receipt))\n",
    "print('df_store:', len(df_store))"
   ]
  },
  {
   "cell_type": "code",
   "execution_count": 33,
   "metadata": {},
   "outputs": [
    {
     "data": {
      "text/html": [
       "<div>\n",
       "<style scoped>\n",
       "    .dataframe tbody tr th:only-of-type {\n",
       "        vertical-align: middle;\n",
       "    }\n",
       "\n",
       "    .dataframe tbody tr th {\n",
       "        vertical-align: top;\n",
       "    }\n",
       "\n",
       "    .dataframe thead th {\n",
       "        text-align: right;\n",
       "    }\n",
       "</style>\n",
       "<table border=\"1\" class=\"dataframe\">\n",
       "  <thead>\n",
       "    <tr style=\"text-align: right;\">\n",
       "      <th></th>\n",
       "      <th>ymd</th>\n",
       "      <th>year</th>\n",
       "      <th>quater</th>\n",
       "      <th>half_period</th>\n",
       "      <th>ym</th>\n",
       "      <th>year_weeki</th>\n",
       "      <th>month</th>\n",
       "      <th>day</th>\n",
       "      <th>day_of_the_week</th>\n",
       "    </tr>\n",
       "  </thead>\n",
       "  <tbody>\n",
       "    <tr>\n",
       "      <th>1821</th>\n",
       "      <td>2011-12-27</td>\n",
       "      <td>2011</td>\n",
       "      <td>20114</td>\n",
       "      <td>20112</td>\n",
       "      <td>201112</td>\n",
       "      <td>201152</td>\n",
       "      <td>12</td>\n",
       "      <td>27</td>\n",
       "      <td>火</td>\n",
       "    </tr>\n",
       "    <tr>\n",
       "      <th>1822</th>\n",
       "      <td>2011-12-28</td>\n",
       "      <td>2011</td>\n",
       "      <td>20114</td>\n",
       "      <td>20112</td>\n",
       "      <td>201112</td>\n",
       "      <td>201152</td>\n",
       "      <td>12</td>\n",
       "      <td>28</td>\n",
       "      <td>水</td>\n",
       "    </tr>\n",
       "    <tr>\n",
       "      <th>1823</th>\n",
       "      <td>2011-12-29</td>\n",
       "      <td>2011</td>\n",
       "      <td>20114</td>\n",
       "      <td>20112</td>\n",
       "      <td>201112</td>\n",
       "      <td>201152</td>\n",
       "      <td>12</td>\n",
       "      <td>29</td>\n",
       "      <td>木</td>\n",
       "    </tr>\n",
       "    <tr>\n",
       "      <th>1824</th>\n",
       "      <td>2011-12-30</td>\n",
       "      <td>2011</td>\n",
       "      <td>20114</td>\n",
       "      <td>20112</td>\n",
       "      <td>201112</td>\n",
       "      <td>201152</td>\n",
       "      <td>12</td>\n",
       "      <td>30</td>\n",
       "      <td>金</td>\n",
       "    </tr>\n",
       "    <tr>\n",
       "      <th>1825</th>\n",
       "      <td>2011-12-31</td>\n",
       "      <td>2011</td>\n",
       "      <td>20114</td>\n",
       "      <td>20112</td>\n",
       "      <td>201112</td>\n",
       "      <td>201152</td>\n",
       "      <td>12</td>\n",
       "      <td>31</td>\n",
       "      <td>土</td>\n",
       "    </tr>\n",
       "  </tbody>\n",
       "</table>\n",
       "</div>"
      ],
      "text/plain": [
       "             ymd  year quater half_period      ym year_weeki  month  day  \\\n",
       "1821  2011-12-27  2011  20114       20112  201112     201152     12   27   \n",
       "1822  2011-12-28  2011  20114       20112  201112     201152     12   28   \n",
       "1823  2011-12-29  2011  20114       20112  201112     201152     12   29   \n",
       "1824  2011-12-30  2011  20114       20112  201112     201152     12   30   \n",
       "1825  2011-12-31  2011  20114       20112  201112     201152     12   31   \n",
       "\n",
       "     day_of_the_week  \n",
       "1821               火  \n",
       "1822               水  \n",
       "1823               木  \n",
       "1824               金  \n",
       "1825               土  "
      ]
     },
     "execution_count": 33,
     "metadata": {},
     "output_type": "execute_result"
    }
   ],
   "source": [
    "df_calender.tail()"
   ]
  },
  {
   "cell_type": "markdown",
   "metadata": {},
   "source": [
    "-> カレンダーは不要"
   ]
  },
  {
   "cell_type": "code",
   "execution_count": 34,
   "metadata": {},
   "outputs": [
    {
     "data": {
      "text/html": [
       "<div>\n",
       "<style scoped>\n",
       "    .dataframe tbody tr th:only-of-type {\n",
       "        vertical-align: middle;\n",
       "    }\n",
       "\n",
       "    .dataframe tbody tr th {\n",
       "        vertical-align: top;\n",
       "    }\n",
       "\n",
       "    .dataframe thead th {\n",
       "        text-align: right;\n",
       "    }\n",
       "</style>\n",
       "<table border=\"1\" class=\"dataframe\">\n",
       "  <thead>\n",
       "    <tr style=\"text-align: right;\">\n",
       "      <th></th>\n",
       "      <th>customer_id</th>\n",
       "      <th>surname</th>\n",
       "      <th>first_name</th>\n",
       "      <th>surname_kana</th>\n",
       "      <th>first_name_kana</th>\n",
       "      <th>gender_cd</th>\n",
       "      <th>birth_day</th>\n",
       "      <th>prefecture_cd</th>\n",
       "      <th>post_cd</th>\n",
       "      <th>address</th>\n",
       "      <th>address_kana</th>\n",
       "      <th>tel_no</th>\n",
       "      <th>join_store_cd</th>\n",
       "      <th>join_date</th>\n",
       "    </tr>\n",
       "  </thead>\n",
       "  <tbody>\n",
       "    <tr>\n",
       "      <th>224434</th>\n",
       "      <td>CS053715000002</td>\n",
       "      <td>岡本</td>\n",
       "      <td>千穂</td>\n",
       "      <td>オカモト</td>\n",
       "      <td>チホ</td>\n",
       "      <td>1</td>\n",
       "      <td>1936-10-17</td>\n",
       "      <td>12</td>\n",
       "      <td>279-0023</td>\n",
       "      <td>千葉県浦安市高洲三丁目13</td>\n",
       "      <td>チバケンウラヤスシタカスサンチョウメ</td>\n",
       "      <td>047-123-4567</td>\n",
       "      <td>S12053</td>\n",
       "      <td>2009-04-02</td>\n",
       "    </tr>\n",
       "    <tr>\n",
       "      <th>224435</th>\n",
       "      <td>CS053715000003</td>\n",
       "      <td>伊藤</td>\n",
       "      <td>朋</td>\n",
       "      <td>イトウ</td>\n",
       "      <td>トモ</td>\n",
       "      <td>1</td>\n",
       "      <td>1937-08-19</td>\n",
       "      <td>12</td>\n",
       "      <td>279-0013</td>\n",
       "      <td>千葉県浦安市日の出二丁目14</td>\n",
       "      <td>チバケンウラヤスシヒノデニチョウメ</td>\n",
       "      <td>047-123-4567</td>\n",
       "      <td>S12053</td>\n",
       "      <td>2009-04-04</td>\n",
       "    </tr>\n",
       "    <tr>\n",
       "      <th>224436</th>\n",
       "      <td>CS053715000004</td>\n",
       "      <td>八重</td>\n",
       "      <td>美穂</td>\n",
       "      <td>ヤエ</td>\n",
       "      <td>ミホ</td>\n",
       "      <td>1</td>\n",
       "      <td>1933-09-25</td>\n",
       "      <td>12</td>\n",
       "      <td>279-0024</td>\n",
       "      <td>千葉県浦安市港54</td>\n",
       "      <td>チバケンウラヤスシミナト</td>\n",
       "      <td>047-123-4567</td>\n",
       "      <td>S12053</td>\n",
       "      <td>2009-04-02</td>\n",
       "    </tr>\n",
       "    <tr>\n",
       "      <th>224437</th>\n",
       "      <td>CS053813000001</td>\n",
       "      <td>長谷川</td>\n",
       "      <td>麻依</td>\n",
       "      <td>ハセガワ</td>\n",
       "      <td>マイ</td>\n",
       "      <td>1</td>\n",
       "      <td>1920-12-30</td>\n",
       "      <td>12</td>\n",
       "      <td>279-0023</td>\n",
       "      <td>千葉県浦安市高洲三丁目21</td>\n",
       "      <td>チバケンウラヤスシタカスサンチョウメ</td>\n",
       "      <td>047-123-4567</td>\n",
       "      <td>S12053</td>\n",
       "      <td>2009-04-22</td>\n",
       "    </tr>\n",
       "    <tr>\n",
       "      <th>224438</th>\n",
       "      <td>ZZ000000000000</td>\n",
       "      <td>非会員</td>\n",
       "      <td>NULL</td>\n",
       "      <td>ヒカイイン</td>\n",
       "      <td>NULL</td>\n",
       "      <td>9</td>\n",
       "      <td>None</td>\n",
       "      <td>99</td>\n",
       "      <td>None</td>\n",
       "      <td>None</td>\n",
       "      <td>None</td>\n",
       "      <td>None</td>\n",
       "      <td>999</td>\n",
       "      <td>2000-09-07</td>\n",
       "    </tr>\n",
       "  </tbody>\n",
       "</table>\n",
       "</div>"
      ],
      "text/plain": [
       "           customer_id surname first_name surname_kana first_name_kana  \\\n",
       "224434  CS053715000002      岡本         千穂         オカモト              チホ   \n",
       "224435  CS053715000003      伊藤          朋          イトウ              トモ   \n",
       "224436  CS053715000004      八重         美穂           ヤエ              ミホ   \n",
       "224437  CS053813000001     長谷川         麻依         ハセガワ              マイ   \n",
       "224438  ZZ000000000000     非会員       NULL        ヒカイイン            NULL   \n",
       "\n",
       "       gender_cd   birth_day prefecture_cd   post_cd         address  \\\n",
       "224434         1  1936-10-17            12  279-0023   千葉県浦安市高洲三丁目13   \n",
       "224435         1  1937-08-19            12  279-0013  千葉県浦安市日の出二丁目14   \n",
       "224436         1  1933-09-25            12  279-0024       千葉県浦安市港54   \n",
       "224437         1  1920-12-30            12  279-0023   千葉県浦安市高洲三丁目21   \n",
       "224438         9        None            99      None            None   \n",
       "\n",
       "              address_kana        tel_no join_store_cd   join_date  \n",
       "224434  チバケンウラヤスシタカスサンチョウメ  047-123-4567        S12053  2009-04-02  \n",
       "224435   チバケンウラヤスシヒノデニチョウメ  047-123-4567        S12053  2009-04-04  \n",
       "224436        チバケンウラヤスシミナト  047-123-4567        S12053  2009-04-02  \n",
       "224437  チバケンウラヤスシタカスサンチョウメ  047-123-4567        S12053  2009-04-22  \n",
       "224438                None          None           999  2000-09-07  "
      ]
     },
     "execution_count": 34,
     "metadata": {},
     "output_type": "execute_result"
    }
   ],
   "source": [
    "df_customer.tail()"
   ]
  },
  {
   "cell_type": "markdown",
   "metadata": {},
   "source": [
    "-> 名称（姓名の漢字、カナ）不要、住所（漢字、カナ）不要、電話番号不要"
   ]
  },
  {
   "cell_type": "code",
   "execution_count": 35,
   "metadata": {},
   "outputs": [],
   "source": [
    "df_customer = df_customer[['customer_id', 'gender_cd', 'birth_day', 'prefecture_cd', 'post_cd', 'join_store_cd', 'join_date']]"
   ]
  },
  {
   "cell_type": "code",
   "execution_count": 36,
   "metadata": {},
   "outputs": [
    {
     "data": {
      "text/html": [
       "<div>\n",
       "<style scoped>\n",
       "    .dataframe tbody tr th:only-of-type {\n",
       "        vertical-align: middle;\n",
       "    }\n",
       "\n",
       "    .dataframe tbody tr th {\n",
       "        vertical-align: top;\n",
       "    }\n",
       "\n",
       "    .dataframe thead th {\n",
       "        text-align: right;\n",
       "    }\n",
       "</style>\n",
       "<table border=\"1\" class=\"dataframe\">\n",
       "  <thead>\n",
       "    <tr style=\"text-align: right;\">\n",
       "      <th></th>\n",
       "      <th>customer_id</th>\n",
       "      <th>gender_cd</th>\n",
       "      <th>birth_day</th>\n",
       "      <th>prefecture_cd</th>\n",
       "      <th>post_cd</th>\n",
       "      <th>join_store_cd</th>\n",
       "      <th>join_date</th>\n",
       "    </tr>\n",
       "  </thead>\n",
       "  <tbody>\n",
       "    <tr>\n",
       "      <th>224434</th>\n",
       "      <td>CS053715000002</td>\n",
       "      <td>1</td>\n",
       "      <td>1936-10-17</td>\n",
       "      <td>12</td>\n",
       "      <td>279-0023</td>\n",
       "      <td>S12053</td>\n",
       "      <td>2009-04-02</td>\n",
       "    </tr>\n",
       "    <tr>\n",
       "      <th>224435</th>\n",
       "      <td>CS053715000003</td>\n",
       "      <td>1</td>\n",
       "      <td>1937-08-19</td>\n",
       "      <td>12</td>\n",
       "      <td>279-0013</td>\n",
       "      <td>S12053</td>\n",
       "      <td>2009-04-04</td>\n",
       "    </tr>\n",
       "    <tr>\n",
       "      <th>224436</th>\n",
       "      <td>CS053715000004</td>\n",
       "      <td>1</td>\n",
       "      <td>1933-09-25</td>\n",
       "      <td>12</td>\n",
       "      <td>279-0024</td>\n",
       "      <td>S12053</td>\n",
       "      <td>2009-04-02</td>\n",
       "    </tr>\n",
       "    <tr>\n",
       "      <th>224437</th>\n",
       "      <td>CS053813000001</td>\n",
       "      <td>1</td>\n",
       "      <td>1920-12-30</td>\n",
       "      <td>12</td>\n",
       "      <td>279-0023</td>\n",
       "      <td>S12053</td>\n",
       "      <td>2009-04-22</td>\n",
       "    </tr>\n",
       "    <tr>\n",
       "      <th>224438</th>\n",
       "      <td>ZZ000000000000</td>\n",
       "      <td>9</td>\n",
       "      <td>None</td>\n",
       "      <td>99</td>\n",
       "      <td>None</td>\n",
       "      <td>999</td>\n",
       "      <td>2000-09-07</td>\n",
       "    </tr>\n",
       "  </tbody>\n",
       "</table>\n",
       "</div>"
      ],
      "text/plain": [
       "           customer_id gender_cd   birth_day prefecture_cd   post_cd  \\\n",
       "224434  CS053715000002         1  1936-10-17            12  279-0023   \n",
       "224435  CS053715000003         1  1937-08-19            12  279-0013   \n",
       "224436  CS053715000004         1  1933-09-25            12  279-0024   \n",
       "224437  CS053813000001         1  1920-12-30            12  279-0023   \n",
       "224438  ZZ000000000000         9        None            99      None   \n",
       "\n",
       "       join_store_cd   join_date  \n",
       "224434        S12053  2009-04-02  \n",
       "224435        S12053  2009-04-04  \n",
       "224436        S12053  2009-04-02  \n",
       "224437        S12053  2009-04-22  \n",
       "224438           999  2000-09-07  "
      ]
     },
     "execution_count": 36,
     "metadata": {},
     "output_type": "execute_result"
    }
   ],
   "source": [
    "df_customer.tail()"
   ]
  },
  {
   "cell_type": "code",
   "execution_count": 37,
   "metadata": {},
   "outputs": [
    {
     "data": {
      "text/plain": [
       "datetime.date(2009, 12, 31)"
      ]
     },
     "execution_count": 37,
     "metadata": {},
     "output_type": "execute_result"
    }
   ],
   "source": [
    "df_customer['join_date'].max()"
   ]
  },
  {
   "cell_type": "code",
   "execution_count": 38,
   "metadata": {},
   "outputs": [
    {
     "data": {
      "text/plain": [
       "customer_id      object\n",
       "gender_cd        object\n",
       "birth_day        object\n",
       "prefecture_cd    object\n",
       "post_cd          object\n",
       "join_store_cd    object\n",
       "join_date        object\n",
       "dtype: object"
      ]
     },
     "execution_count": 38,
     "metadata": {},
     "output_type": "execute_result"
    }
   ],
   "source": [
    "df_customer.dtypes"
   ]
  },
  {
   "cell_type": "code",
   "execution_count": 39,
   "metadata": {},
   "outputs": [],
   "source": [
    "from dateutil.relativedelta import relativedelta"
   ]
  },
  {
   "cell_type": "code",
   "execution_count": 40,
   "metadata": {},
   "outputs": [
    {
     "data": {
      "text/plain": [
       "datetime.date(2019, 12, 31)"
      ]
     },
     "execution_count": 40,
     "metadata": {},
     "output_type": "execute_result"
    }
   ],
   "source": [
    "max(df_customer['join_date'] + relativedelta(years=10))"
   ]
  },
  {
   "cell_type": "code",
   "execution_count": 41,
   "metadata": {},
   "outputs": [
    {
     "data": {
      "text/html": [
       "<div>\n",
       "<style scoped>\n",
       "    .dataframe tbody tr th:only-of-type {\n",
       "        vertical-align: middle;\n",
       "    }\n",
       "\n",
       "    .dataframe tbody tr th {\n",
       "        vertical-align: top;\n",
       "    }\n",
       "\n",
       "    .dataframe thead th {\n",
       "        text-align: right;\n",
       "    }\n",
       "</style>\n",
       "<table border=\"1\" class=\"dataframe\">\n",
       "  <thead>\n",
       "    <tr style=\"text-align: right;\">\n",
       "      <th></th>\n",
       "      <th>sales_ymd</th>\n",
       "      <th>store_cd</th>\n",
       "      <th>product_cd</th>\n",
       "      <th>customer_id</th>\n",
       "      <th>receipt_no</th>\n",
       "      <th>receipt_sub_no</th>\n",
       "      <th>amount</th>\n",
       "      <th>quantity</th>\n",
       "    </tr>\n",
       "  </thead>\n",
       "  <tbody>\n",
       "    <tr>\n",
       "      <th>1095</th>\n",
       "      <td>2010-01-05</td>\n",
       "      <td>S14034</td>\n",
       "      <td>P059001026</td>\n",
       "      <td>CS034414000083</td>\n",
       "      <td>1182</td>\n",
       "      <td>1</td>\n",
       "      <td>588</td>\n",
       "      <td>1</td>\n",
       "    </tr>\n",
       "    <tr>\n",
       "      <th>1096</th>\n",
       "      <td>2010-01-05</td>\n",
       "      <td>S14033</td>\n",
       "      <td>P071006001</td>\n",
       "      <td>ZZ000000000000</td>\n",
       "      <td>1172</td>\n",
       "      <td>2</td>\n",
       "      <td>108</td>\n",
       "      <td>1</td>\n",
       "    </tr>\n",
       "    <tr>\n",
       "      <th>1097</th>\n",
       "      <td>2010-01-05</td>\n",
       "      <td>S14042</td>\n",
       "      <td>P071001018</td>\n",
       "      <td>ZZ000000000000</td>\n",
       "      <td>1182</td>\n",
       "      <td>2</td>\n",
       "      <td>102</td>\n",
       "      <td>1</td>\n",
       "    </tr>\n",
       "    <tr>\n",
       "      <th>1098</th>\n",
       "      <td>2010-01-05</td>\n",
       "      <td>S14049</td>\n",
       "      <td>P050402003</td>\n",
       "      <td>ZZ000000000000</td>\n",
       "      <td>1182</td>\n",
       "      <td>2</td>\n",
       "      <td>480</td>\n",
       "      <td>1</td>\n",
       "    </tr>\n",
       "    <tr>\n",
       "      <th>1099</th>\n",
       "      <td>2010-01-05</td>\n",
       "      <td>S14045</td>\n",
       "      <td>P091402001</td>\n",
       "      <td>ZZ000000000000</td>\n",
       "      <td>1192</td>\n",
       "      <td>2</td>\n",
       "      <td>900</td>\n",
       "      <td>1</td>\n",
       "    </tr>\n",
       "  </tbody>\n",
       "</table>\n",
       "</div>"
      ],
      "text/plain": [
       "       sales_ymd store_cd  product_cd     customer_id  receipt_no  \\\n",
       "1095  2010-01-05   S14034  P059001026  CS034414000083        1182   \n",
       "1096  2010-01-05   S14033  P071006001  ZZ000000000000        1172   \n",
       "1097  2010-01-05   S14042  P071001018  ZZ000000000000        1182   \n",
       "1098  2010-01-05   S14049  P050402003  ZZ000000000000        1182   \n",
       "1099  2010-01-05   S14045  P091402001  ZZ000000000000        1192   \n",
       "\n",
       "      receipt_sub_no  amount  quantity  \n",
       "1095               1     588         1  \n",
       "1096               2     108         1  \n",
       "1097               2     102         1  \n",
       "1098               2     480         1  \n",
       "1099               2     900         1  "
      ]
     },
     "execution_count": 41,
     "metadata": {},
     "output_type": "execute_result"
    }
   ],
   "source": [
    "df_receipt.tail()"
   ]
  },
  {
   "cell_type": "code",
   "execution_count": 42,
   "metadata": {},
   "outputs": [
    {
     "data": {
      "text/plain": [
       "datetime.date(2010, 1, 5)"
      ]
     },
     "execution_count": 42,
     "metadata": {},
     "output_type": "execute_result"
    }
   ],
   "source": [
    "df_receipt['sales_ymd'].max()\n"
   ]
  },
  {
   "cell_type": "markdown",
   "metadata": {},
   "source": [
    "-> 9年シフトまでは行けそう"
   ]
  },
  {
   "cell_type": "code",
   "execution_count": 43,
   "metadata": {},
   "outputs": [],
   "source": [
    "df_receipt['sales_ymd'] = df_receipt['sales_ymd']+ relativedelta(years=9)"
   ]
  },
  {
   "cell_type": "code",
   "execution_count": 45,
   "metadata": {},
   "outputs": [
    {
     "data": {
      "text/plain": [
       "datetime.date(2019, 1, 1)"
      ]
     },
     "execution_count": 45,
     "metadata": {},
     "output_type": "execute_result"
    }
   ],
   "source": [
    "df_receipt['sales_ymd'].min()"
   ]
  },
  {
   "cell_type": "code",
   "execution_count": 46,
   "metadata": {},
   "outputs": [
    {
     "data": {
      "text/plain": [
       "datetime.date(2019, 1, 5)"
      ]
     },
     "execution_count": 46,
     "metadata": {},
     "output_type": "execute_result"
    }
   ],
   "source": [
    "df_receipt['sales_ymd'].max()"
   ]
  },
  {
   "cell_type": "code",
   "execution_count": null,
   "metadata": {},
   "outputs": [],
   "source": []
  }
 ],
 "metadata": {
  "kernelspec": {
   "display_name": "Python 3",
   "language": "python",
   "name": "python3"
  },
  "language_info": {
   "codemirror_mode": {
    "name": "ipython",
    "version": 3
   },
   "file_extension": ".py",
   "mimetype": "text/x-python",
   "name": "python",
   "nbconvert_exporter": "python",
   "pygments_lexer": "ipython3",
   "version": "3.7.3"
  }
 },
 "nbformat": 4,
 "nbformat_minor": 4
}
