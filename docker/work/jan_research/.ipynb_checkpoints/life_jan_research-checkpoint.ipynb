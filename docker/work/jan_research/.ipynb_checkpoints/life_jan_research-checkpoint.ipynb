{
 "cells": [
  {
   "cell_type": "code",
   "execution_count": 289,
   "metadata": {},
   "outputs": [],
   "source": [
    "import os\n",
    "import re\n",
    "import pandas as pd\n",
    "import numpy as np"
   ]
  },
  {
   "cell_type": "markdown",
   "metadata": {},
   "source": [
    "# 1. 東西マージした商品リストの作成"
   ]
  },
  {
   "cell_type": "code",
   "execution_count": 270,
   "metadata": {},
   "outputs": [],
   "source": [
    "df_product_e = pd.read_csv('data/life_e_all_product_list_20191219.csv',\n",
    "                          dtype={\n",
    "                            'item_cd':'str',\n",
    "                            'clength':'int16',\n",
    "                            'item_name':'str',\n",
    "                            'category1_cd':'str',\n",
    "                            'category1_name':'str',\n",
    "                            'category2_cd':'str',\n",
    "                            'category2_name':'str',\n",
    "                            'category3_cd':'str',\n",
    "                            'category3_name':'str',\n",
    "                            'category4_cd':'str',\n",
    "                            'category4_name':'str'\n",
    "                          })\n",
    "\n",
    "df_product_w = pd.read_csv('data/life_w_all_product_list_20191219.csv',\n",
    "                          dtype={\n",
    "                            'item_cd':'str',\n",
    "                            'clength':'int16',\n",
    "                            'item_name':'str',\n",
    "                            'category1_cd':'str',\n",
    "                            'category1_name':'str',\n",
    "                            'category2_cd':'str',\n",
    "                            'category2_name':'str',\n",
    "                            'category3_cd':'str',\n",
    "                            'category3_name':'str',\n",
    "                            'category4_cd':'str',\n",
    "                            'category4_name':'str'\n",
    "                          })"
   ]
  },
  {
   "cell_type": "code",
   "execution_count": 271,
   "metadata": {},
   "outputs": [],
   "source": [
    "df_product_e = df_product_e[~df_product_e.duplicated(subset='item_cd', keep='last')]\n",
    "df_product_w = df_product_w[~df_product_w.duplicated(subset='item_cd', keep='last')]"
   ]
  },
  {
   "cell_type": "code",
   "execution_count": 272,
   "metadata": {},
   "outputs": [
    {
     "name": "stdout",
     "output_type": "stream",
     "text": [
      "df_product_e: 128667\n",
      "df_product_w: 155838\n"
     ]
    }
   ],
   "source": [
    "print('df_product_e:', len(df_product_e))\n",
    "print('df_product_w:', len(df_product_w))"
   ]
  },
  {
   "cell_type": "code",
   "execution_count": 273,
   "metadata": {},
   "outputs": [
    {
     "name": "stdout",
     "output_type": "stream",
     "text": [
      "df_product: 249153\n"
     ]
    }
   ],
   "source": [
    "# 縦に結合して全項目重複しているレコードを削除（例：JANが同じでも商品名が違えば残る）\n",
    "\n",
    "df_product = pd.concat([df_product_e, df_product_w])\n",
    "df_product.reset_index(drop=True, inplace=True)\n",
    "df_product = df_product[~df_product.duplicated()]\n",
    "print('df_product:', len(df_product))"
   ]
  },
  {
   "cell_type": "code",
   "execution_count": 274,
   "metadata": {},
   "outputs": [
    {
     "name": "stdout",
     "output_type": "stream",
     "text": [
      "df_duplicated: 2806\n"
     ]
    }
   ],
   "source": [
    "# item_cdだけで重複しているレコードを抽出\n",
    "\n",
    "df_duplicated = df_product[['item_cd', 'item_name']].groupby(\"item_cd\").count()\n",
    "df_duplicated.reset_index(inplace=True)\n",
    "df_duplicated.columns = ['item_cd', 'item_count']\n",
    "df_duplicated = df_duplicated[df_duplicated['item_count'] > 1]\n",
    "print('df_duplicated:', len(df_duplicated))"
   ]
  },
  {
   "cell_type": "code",
   "execution_count": 275,
   "metadata": {},
   "outputs": [],
   "source": [
    "#項目名を変更してマージ（東のデータには'_e'をつける）\n",
    "col_list = []\n",
    "for col in df_product_e.columns:\n",
    "    col_list.append(col + '_e')\n",
    "df_product_e.columns = col_list\n",
    "df_duplicated = pd.merge(df_duplicated, df_product_e, left_on='item_cd', right_on='item_cd_e').drop('item_cd_e', axis=1)"
   ]
  },
  {
   "cell_type": "code",
   "execution_count": 276,
   "metadata": {},
   "outputs": [],
   "source": [
    "#項目名を変更してマージ（西のデータには'_w'をつける）\n",
    "col_list = []\n",
    "for col in df_product_w.columns:\n",
    "    col_list.append(col + '_w')\n",
    "df_product_w.columns = col_list\n",
    "df_duplicated = pd.merge(df_duplicated, df_product_w, left_on='item_cd', right_on='item_cd_w').drop('item_cd_w', axis=1)"
   ]
  },
  {
   "cell_type": "code",
   "execution_count": 277,
   "metadata": {},
   "outputs": [
    {
     "data": {
      "text/html": [
       "<div>\n",
       "<style scoped>\n",
       "    .dataframe tbody tr th:only-of-type {\n",
       "        vertical-align: middle;\n",
       "    }\n",
       "\n",
       "    .dataframe tbody tr th {\n",
       "        vertical-align: top;\n",
       "    }\n",
       "\n",
       "    .dataframe thead th {\n",
       "        text-align: right;\n",
       "    }\n",
       "</style>\n",
       "<table border=\"1\" class=\"dataframe\">\n",
       "  <thead>\n",
       "    <tr style=\"text-align: right;\">\n",
       "      <th></th>\n",
       "      <th>item_cd</th>\n",
       "      <th>item_count</th>\n",
       "      <th>clength_e</th>\n",
       "      <th>item_name_e</th>\n",
       "      <th>category1_cd_e</th>\n",
       "      <th>category1_name_e</th>\n",
       "      <th>category2_cd_e</th>\n",
       "      <th>category2_name_e</th>\n",
       "      <th>category3_cd_e</th>\n",
       "      <th>category3_name_e</th>\n",
       "      <th>...</th>\n",
       "      <th>clength_w</th>\n",
       "      <th>item_name_w</th>\n",
       "      <th>category1_cd_w</th>\n",
       "      <th>category1_name_w</th>\n",
       "      <th>category2_cd_w</th>\n",
       "      <th>category2_name_w</th>\n",
       "      <th>category3_cd_w</th>\n",
       "      <th>category3_name_w</th>\n",
       "      <th>category4_cd_w</th>\n",
       "      <th>category4_name_w</th>\n",
       "    </tr>\n",
       "  </thead>\n",
       "  <tbody>\n",
       "  </tbody>\n",
       "</table>\n",
       "<p>0 rows × 22 columns</p>\n",
       "</div>"
      ],
      "text/plain": [
       "Empty DataFrame\n",
       "Columns: [item_cd, item_count, clength_e, item_name_e, category1_cd_e, category1_name_e, category2_cd_e, category2_name_e, category3_cd_e, category3_name_e, category4_cd_e, category4_name_e, clength_w, item_name_w, category1_cd_w, category1_name_w, category2_cd_w, category2_name_w, category3_cd_w, category3_name_w, category4_cd_w, category4_name_w]\n",
       "Index: []\n",
       "\n",
       "[0 rows x 22 columns]"
      ]
     },
     "execution_count": 277,
     "metadata": {},
     "output_type": "execute_result"
    }
   ],
   "source": [
    "# 東西マージ後、item_cdで重複しているものはサブカテゴリなどの微妙な違いだけであることを確認\n",
    "df_duplicated.to_csv('output/df_duplicated.csv', index=False)\n",
    "df_duplicated[df_duplicated['item_name_e'] != df_duplicated['item_name_w']]"
   ]
  },
  {
   "cell_type": "code",
   "execution_count": 278,
   "metadata": {},
   "outputs": [
    {
     "name": "stdout",
     "output_type": "stream",
     "text": [
      "df_product: 246347\n"
     ]
    }
   ],
   "source": [
    "# 東西マージしたdf_productに対し、item_cdでユニークにする\n",
    "df_product = df_product[~df_product.duplicated(subset='item_cd', keep='first')]\n",
    "print('df_product:', len(df_product))"
   ]
  },
  {
   "cell_type": "code",
   "execution_count": 279,
   "metadata": {},
   "outputs": [
    {
     "data": {
      "text/plain": [
       "2806"
      ]
     },
     "execution_count": 279,
     "metadata": {},
     "output_type": "execute_result"
    }
   ],
   "source": [
    "# 上で確認した重複件数と一致するハズ\n",
    "249153 - 246347"
   ]
  },
  {
   "cell_type": "markdown",
   "metadata": {},
   "source": [
    "# 2. JAN桁数の調査"
   ]
  },
  {
   "cell_type": "code",
   "execution_count": 280,
   "metadata": {},
   "outputs": [],
   "source": [
    "df_jan_count = df_product[['clength','item_cd']].groupby('clength').count()\n",
    "df_jan_count.reset_index(inplace=True)\n",
    "df_jan_count.columns = ['clength', 'count']"
   ]
  },
  {
   "cell_type": "code",
   "execution_count": 281,
   "metadata": {},
   "outputs": [
    {
     "data": {
      "text/html": [
       "<div>\n",
       "<style scoped>\n",
       "    .dataframe tbody tr th:only-of-type {\n",
       "        vertical-align: middle;\n",
       "    }\n",
       "\n",
       "    .dataframe tbody tr th {\n",
       "        vertical-align: top;\n",
       "    }\n",
       "\n",
       "    .dataframe thead th {\n",
       "        text-align: right;\n",
       "    }\n",
       "</style>\n",
       "<table border=\"1\" class=\"dataframe\">\n",
       "  <thead>\n",
       "    <tr style=\"text-align: right;\">\n",
       "      <th></th>\n",
       "      <th>clength</th>\n",
       "      <th>count</th>\n",
       "    </tr>\n",
       "  </thead>\n",
       "  <tbody>\n",
       "    <tr>\n",
       "      <th>0</th>\n",
       "      <td>1</td>\n",
       "      <td>1</td>\n",
       "    </tr>\n",
       "    <tr>\n",
       "      <th>1</th>\n",
       "      <td>2</td>\n",
       "      <td>42</td>\n",
       "    </tr>\n",
       "    <tr>\n",
       "      <th>2</th>\n",
       "      <td>3</td>\n",
       "      <td>276</td>\n",
       "    </tr>\n",
       "    <tr>\n",
       "      <th>3</th>\n",
       "      <td>4</td>\n",
       "      <td>26</td>\n",
       "    </tr>\n",
       "    <tr>\n",
       "      <th>4</th>\n",
       "      <td>6</td>\n",
       "      <td>525</td>\n",
       "    </tr>\n",
       "    <tr>\n",
       "      <th>5</th>\n",
       "      <td>7</td>\n",
       "      <td>337</td>\n",
       "    </tr>\n",
       "    <tr>\n",
       "      <th>6</th>\n",
       "      <td>8</td>\n",
       "      <td>1832</td>\n",
       "    </tr>\n",
       "    <tr>\n",
       "      <th>7</th>\n",
       "      <td>9</td>\n",
       "      <td>3</td>\n",
       "    </tr>\n",
       "    <tr>\n",
       "      <th>8</th>\n",
       "      <td>10</td>\n",
       "      <td>391</td>\n",
       "    </tr>\n",
       "    <tr>\n",
       "      <th>9</th>\n",
       "      <td>11</td>\n",
       "      <td>139</td>\n",
       "    </tr>\n",
       "    <tr>\n",
       "      <th>10</th>\n",
       "      <td>12</td>\n",
       "      <td>12757</td>\n",
       "    </tr>\n",
       "    <tr>\n",
       "      <th>11</th>\n",
       "      <td>13</td>\n",
       "      <td>230018</td>\n",
       "    </tr>\n",
       "  </tbody>\n",
       "</table>\n",
       "</div>"
      ],
      "text/plain": [
       "    clength   count\n",
       "0         1       1\n",
       "1         2      42\n",
       "2         3     276\n",
       "3         4      26\n",
       "4         6     525\n",
       "5         7     337\n",
       "6         8    1832\n",
       "7         9       3\n",
       "8        10     391\n",
       "9        11     139\n",
       "10       12   12757\n",
       "11       13  230018"
      ]
     },
     "execution_count": 281,
     "metadata": {},
     "output_type": "execute_result"
    }
   ],
   "source": [
    "df_jan_count.to_csv('output/df_count.csv', index=False)\n",
    "df_jan_count"
   ]
  },
  {
   "cell_type": "code",
   "execution_count": 297,
   "metadata": {},
   "outputs": [
    {
     "data": {
      "text/html": [
       "<div>\n",
       "<style scoped>\n",
       "    .dataframe tbody tr th:only-of-type {\n",
       "        vertical-align: middle;\n",
       "    }\n",
       "\n",
       "    .dataframe tbody tr th {\n",
       "        vertical-align: top;\n",
       "    }\n",
       "\n",
       "    .dataframe thead th {\n",
       "        text-align: right;\n",
       "    }\n",
       "</style>\n",
       "<table border=\"1\" class=\"dataframe\">\n",
       "  <thead>\n",
       "    <tr style=\"text-align: right;\">\n",
       "      <th></th>\n",
       "      <th>item_cd</th>\n",
       "      <th>clength</th>\n",
       "      <th>item_name</th>\n",
       "      <th>category1_cd</th>\n",
       "      <th>category1_name</th>\n",
       "      <th>category2_cd</th>\n",
       "      <th>category2_name</th>\n",
       "      <th>category3_cd</th>\n",
       "      <th>category3_name</th>\n",
       "      <th>category4_cd</th>\n",
       "      <th>category4_name</th>\n",
       "    </tr>\n",
       "  </thead>\n",
       "  <tbody>\n",
       "    <tr>\n",
       "      <th>0</th>\n",
       "      <td>246198000000</td>\n",
       "      <td>12</td>\n",
       "      <td>ベーコンエピ</td>\n",
       "      <td>000092</td>\n",
       "      <td>ベーカリー</td>\n",
       "      <td>909203</td>\n",
       "      <td>ハース・フランス</td>\n",
       "      <td>570300</td>\n",
       "      <td>ハース・フランス</td>\n",
       "      <td>570301</td>\n",
       "      <td>フランスパン</td>\n",
       "    </tr>\n",
       "    <tr>\n",
       "      <th>6</th>\n",
       "      <td>246203000000</td>\n",
       "      <td>12</td>\n",
       "      <td>焦がれるチーズフランス</td>\n",
       "      <td>000092</td>\n",
       "      <td>ベーカリー</td>\n",
       "      <td>909203</td>\n",
       "      <td>ハース・フランス</td>\n",
       "      <td>570300</td>\n",
       "      <td>ハース・フランス</td>\n",
       "      <td>570301</td>\n",
       "      <td>フランスパン</td>\n",
       "    </tr>\n",
       "    <tr>\n",
       "      <th>14</th>\n",
       "      <td>216007900000</td>\n",
       "      <td>12</td>\n",
       "      <td>豪州産ラム切落２００ｇ▼１便</td>\n",
       "      <td>000011</td>\n",
       "      <td>精肉</td>\n",
       "      <td>901106</td>\n",
       "      <td>バラエティ　ミート</td>\n",
       "      <td>731900</td>\n",
       "      <td>バラエティ</td>\n",
       "      <td>731903</td>\n",
       "      <td>ニュージーランドラム</td>\n",
       "    </tr>\n",
       "    <tr>\n",
       "      <th>20</th>\n",
       "      <td>232830800000</td>\n",
       "      <td>12</td>\n",
       "      <td>あまに鶏むね肉</td>\n",
       "      <td>000011</td>\n",
       "      <td>精肉</td>\n",
       "      <td>901103</td>\n",
       "      <td>鶏肉</td>\n",
       "      <td>731100</td>\n",
       "      <td>とり正肉</td>\n",
       "      <td>731116</td>\n",
       "      <td>銘柄鶏むね肉</td>\n",
       "    </tr>\n",
       "    <tr>\n",
       "      <th>21</th>\n",
       "      <td>296264400000</td>\n",
       "      <td>12</td>\n",
       "      <td>３便◆若どりもも肉１枚</td>\n",
       "      <td>000011</td>\n",
       "      <td>精肉</td>\n",
       "      <td>901103</td>\n",
       "      <td>鶏肉</td>\n",
       "      <td>731100</td>\n",
       "      <td>とり正肉</td>\n",
       "      <td>731101</td>\n",
       "      <td>とり　もも肉</td>\n",
       "    </tr>\n",
       "    <tr>\n",
       "      <th>...</th>\n",
       "      <td>...</td>\n",
       "      <td>...</td>\n",
       "      <td>...</td>\n",
       "      <td>...</td>\n",
       "      <td>...</td>\n",
       "      <td>...</td>\n",
       "      <td>...</td>\n",
       "      <td>...</td>\n",
       "      <td>...</td>\n",
       "      <td>...</td>\n",
       "      <td>...</td>\n",
       "    </tr>\n",
       "    <tr>\n",
       "      <th>284499</th>\n",
       "      <td>2523029043158</td>\n",
       "      <td>13</td>\n",
       "      <td>紳士カジュアルシュー</td>\n",
       "      <td>000552</td>\n",
       "      <td>靴</td>\n",
       "      <td>955201</td>\n",
       "      <td>靴</td>\n",
       "      <td>055201</td>\n",
       "      <td>靴</td>\n",
       "      <td>002302</td>\n",
       "      <td>紳士カジュアルシュー</td>\n",
       "    </tr>\n",
       "    <tr>\n",
       "      <th>284500</th>\n",
       "      <td>2523129918158</td>\n",
       "      <td>13</td>\n",
       "      <td>婦人カジュアルシュー</td>\n",
       "      <td>000552</td>\n",
       "      <td>靴</td>\n",
       "      <td>955201</td>\n",
       "      <td>靴</td>\n",
       "      <td>055201</td>\n",
       "      <td>靴</td>\n",
       "      <td>002312</td>\n",
       "      <td>婦人カジュアルシュー</td>\n",
       "    </tr>\n",
       "    <tr>\n",
       "      <th>284501</th>\n",
       "      <td>2523059025018</td>\n",
       "      <td>13</td>\n",
       "      <td>紳士ビジネスシューズ</td>\n",
       "      <td>000552</td>\n",
       "      <td>靴</td>\n",
       "      <td>955201</td>\n",
       "      <td>靴</td>\n",
       "      <td>055201</td>\n",
       "      <td>靴</td>\n",
       "      <td>002305</td>\n",
       "      <td>紳士ビジネスシューズ</td>\n",
       "    </tr>\n",
       "    <tr>\n",
       "      <th>284503</th>\n",
       "      <td>2523057004060</td>\n",
       "      <td>13</td>\n",
       "      <td>紳士ビジネスシューズ</td>\n",
       "      <td>000552</td>\n",
       "      <td>靴</td>\n",
       "      <td>955201</td>\n",
       "      <td>靴</td>\n",
       "      <td>055201</td>\n",
       "      <td>靴</td>\n",
       "      <td>002305</td>\n",
       "      <td>紳士ビジネスシューズ</td>\n",
       "    </tr>\n",
       "    <tr>\n",
       "      <th>284504</th>\n",
       "      <td>2523122151125</td>\n",
       "      <td>13</td>\n",
       "      <td>婦人カジュアルシュー</td>\n",
       "      <td>000552</td>\n",
       "      <td>靴</td>\n",
       "      <td>955201</td>\n",
       "      <td>靴</td>\n",
       "      <td>055201</td>\n",
       "      <td>靴</td>\n",
       "      <td>002312</td>\n",
       "      <td>婦人カジュアルシュー</td>\n",
       "    </tr>\n",
       "  </tbody>\n",
       "</table>\n",
       "<p>129129 rows × 11 columns</p>\n",
       "</div>"
      ],
      "text/plain": [
       "              item_cd  clength       item_name category1_cd category1_name  \\\n",
       "0        246198000000       12          ベーコンエピ       000092          ベーカリー   \n",
       "6        246203000000       12     焦がれるチーズフランス       000092          ベーカリー   \n",
       "14       216007900000       12  豪州産ラム切落２００ｇ▼１便       000011             精肉   \n",
       "20       232830800000       12         あまに鶏むね肉       000011             精肉   \n",
       "21       296264400000       12     ３便◆若どりもも肉１枚       000011             精肉   \n",
       "...               ...      ...             ...          ...            ...   \n",
       "284499  2523029043158       13      紳士カジュアルシュー       000552              靴   \n",
       "284500  2523129918158       13      婦人カジュアルシュー       000552              靴   \n",
       "284501  2523059025018       13      紳士ビジネスシューズ       000552              靴   \n",
       "284503  2523057004060       13      紳士ビジネスシューズ       000552              靴   \n",
       "284504  2523122151125       13      婦人カジュアルシュー       000552              靴   \n",
       "\n",
       "       category2_cd category2_name category3_cd category3_name category4_cd  \\\n",
       "0            909203       ハース・フランス       570300       ハース・フランス       570301   \n",
       "6            909203       ハース・フランス       570300       ハース・フランス       570301   \n",
       "14           901106      バラエティ　ミート       731900          バラエティ       731903   \n",
       "20           901103             鶏肉       731100           とり正肉       731116   \n",
       "21           901103             鶏肉       731100           とり正肉       731101   \n",
       "...             ...            ...          ...            ...          ...   \n",
       "284499       955201              靴       055201              靴       002302   \n",
       "284500       955201              靴       055201              靴       002312   \n",
       "284501       955201              靴       055201              靴       002305   \n",
       "284503       955201              靴       055201              靴       002305   \n",
       "284504       955201              靴       055201              靴       002312   \n",
       "\n",
       "       category4_name  \n",
       "0              フランスパン  \n",
       "6              フランスパン  \n",
       "14         ニュージーランドラム  \n",
       "20             銘柄鶏むね肉  \n",
       "21             とり　もも肉  \n",
       "...               ...  \n",
       "284499     紳士カジュアルシュー  \n",
       "284500     婦人カジュアルシュー  \n",
       "284501     紳士ビジネスシューズ  \n",
       "284503     紳士ビジネスシューズ  \n",
       "284504     婦人カジュアルシュー  \n",
       "\n",
       "[129129 rows x 11 columns]"
      ]
     },
     "execution_count": 297,
     "metadata": {},
     "output_type": "execute_result"
    }
   ],
   "source": [
    "df_product[df_product['item_cd'].str.contains('^2+.*')]"
   ]
  },
  {
   "cell_type": "code",
   "execution_count": 308,
   "metadata": {},
   "outputs": [],
   "source": [
    "df_pivot_table = pd.pivot_table(\n",
    "    df_product,\n",
    "    values='item_cd',\n",
    "    index='category1_name',\n",
    "    columns='clength',\n",
    "    aggfunc='count',\n",
    "    margins=True\n",
    ").reset_index()"
   ]
  },
  {
   "cell_type": "code",
   "execution_count": 310,
   "metadata": {},
   "outputs": [],
   "source": [
    "df_pivot_table.to_csv('output/df_pivot_table.csv', index=False)"
   ]
  },
  {
   "cell_type": "code",
   "execution_count": 331,
   "metadata": {},
   "outputs": [],
   "source": [
    "df_non_stdjan = df_product[(df_product['category1_name'].str.contains('.*酒.*'))\n",
    "#           & ~(df_product['item_cd'].str.contains('^45.*'))\n",
    "#           & ~(df_product['item_cd'].str.contains('^49.*'))\n",
    "           & (df_product['clength'] != 13)\n",
    "           & (df_product['clength'] != 8)\n",
    "          ]\n",
    "df_non_stdjan.to_csv('output/df_non_stdjan.csv', index=False)"
   ]
  },
  {
   "cell_type": "markdown",
   "metadata": {},
   "source": [
    "# 3. 考察"
   ]
  },
  {
   "cell_type": "markdown",
   "metadata": {},
   "source": [
    "- 8桁未満のものは独自JANととらえ、そのまま\n",
    "- "
   ]
  }
 ],
 "metadata": {
  "kernelspec": {
   "display_name": "Python 3",
   "language": "python",
   "name": "python3"
  },
  "language_info": {
   "codemirror_mode": {
    "name": "ipython",
    "version": 3
   },
   "file_extension": ".py",
   "mimetype": "text/x-python",
   "name": "python",
   "nbconvert_exporter": "python",
   "pygments_lexer": "ipython3",
   "version": "3.7.3"
  }
 },
 "nbformat": 4,
 "nbformat_minor": 4
}
